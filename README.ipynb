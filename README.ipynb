{
 "cells": [
  {
   "cell_type": "markdown",
   "id": "2f29d06e-aa35-446e-b8b8-e0c65f641d5f",
   "metadata": {},
   "source": [
    "# pyscript puzzle"
   ]
  },
  {
   "cell_type": "markdown",
   "id": "9f64b26e-aa65-4c95-b418-79d91c2153bd",
   "metadata": {},
   "source": [
    "Some small programms with pyscript (https://pyscript.net)"
   ]
  },
  {
   "cell_type": "markdown",
   "id": "d110134e-43ed-4c48-bdcb-e148a6b36320",
   "metadata": {},
   "source": [
    "## #1"
   ]
  },
  {
   "cell_type": "markdown",
   "id": "66736628-c2cd-4641-9fc3-1a19d2d73612",
   "metadata": {},
   "source": [
    "In **PyScript** you can use **JavaScript programm objects** with the Python module **js**."
   ]
  },
  {
   "cell_type": "markdown",
   "id": "c5e14fab-8c38-4e6c-81ee-29fcd418aff7",
   "metadata": {},
   "source": [
    "**Task:**\n",
    "\n",
    "List all JavaScript programm objects with python."
   ]
  },
  {
   "cell_type": "markdown",
   "id": "8c5a0050-1164-46f7-830a-89867f477994",
   "metadata": {},
   "source": [
    "<img src=\"img/puzzle1.png\" width=\"400\" align=\"left\"><br><br><br><br><br><br><br><br><br><br><br><br><br><br>"
   ]
  },
  {
   "cell_type": "markdown",
   "id": "bdc0905c-0342-458a-9b1e-4b914bb1276e",
   "metadata": {},
   "source": [
    "**Solution**\n",
    "\n",
    "Use Python module **inspect**. It works also with JavaScript."
   ]
  },
  {
   "cell_type": "code",
   "execution_count": null,
   "id": "9741f583-2ab6-405b-a39b-cd1b74618b89",
   "metadata": {},
   "outputs": [],
   "source": [
    "<html>\n",
    "    <head>\n",
    "        <link rel=\"stylesheet\" href=\"https://pyscript.net/latest/pyscript.css\" />\n",
    "        <script defer src=\"https://pyscript.net/latest/pyscript.js\"></script>\n",
    "    </head>\n",
    "    <body>\n",
    "        <py-title>puzzle #1 Inspect js</py-title>\n",
    "        <div id=\"content\"><div>\n",
    "\n",
    "        <py-script>     \n",
    "import js\n",
    "import inspect\n",
    "\n",
    "for i in inspect.getmembers(js):\n",
    "    PyScript.write('content',f'<p>{i[0]} {i[1]}</p>', append=True)\n",
    "        </py-script>\n",
    "    </body>\n",
    "</html>"
   ]
  }
 ],
 "metadata": {
  "kernelspec": {
   "display_name": "Python 3 (ipykernel)",
   "language": "python",
   "name": "python3"
  },
  "language_info": {
   "codemirror_mode": {
    "name": "ipython",
    "version": 3
   },
   "file_extension": ".py",
   "mimetype": "text/x-python",
   "name": "python",
   "nbconvert_exporter": "python",
   "pygments_lexer": "ipython3",
   "version": "3.9.12"
  }
 },
 "nbformat": 4,
 "nbformat_minor": 5
}
